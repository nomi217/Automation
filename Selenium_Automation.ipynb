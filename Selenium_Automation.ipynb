{
 "cells": [
  {
   "cell_type": "code",
   "execution_count": 3,
   "metadata": {},
   "outputs": [],
   "source": [
    "from selenium import webdriver\n",
    "from selenium.webdriver.common.keys import Keys\n",
    "import time\n",
    "                 #OR\n",
    "#from selenium import.*\n",
    "\n",
    "driver=webdriver.Firefox()\n",
    "driver.maximize_window()\n",
    "driver.get('https://www.linkedin.com/home')\n",
    "element=driver.find_element_by_link_text('Sign in')\n",
    "#element.send_keys('Selenium')\n",
    "element.click()\n",
    "element=driver.find_element_by_id('username')\n",
    "element.send_keys('naumankhalid217@gmail.com')\n",
    "element=driver.find_element_by_id('password')\n",
    "element.send_keys('nK@Jun15')\n",
    "\n",
    "element=driver.find_element_by_tag_name('button')\n",
    "element.click()\n",
    "driver.execute_script(\"window.scrollTo(0,document.body.scrollHeight)\")\n",
    "#time.sleep(2)"
   ]
  }
 ],
 "metadata": {
  "kernelspec": {
   "display_name": "Python 3",
   "language": "python",
   "name": "python3"
  },
  "language_info": {
   "codemirror_mode": {
    "name": "ipython",
    "version": 3
   },
   "file_extension": ".py",
   "mimetype": "text/x-python",
   "name": "python",
   "nbconvert_exporter": "python",
   "pygments_lexer": "ipython3",
   "version": "3.7.3"
  }
 },
 "nbformat": 4,
 "nbformat_minor": 2
}
